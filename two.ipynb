{
 "cells": [
  {
   "cell_type": "code",
   "execution_count": 1,
   "metadata": {},
   "outputs": [],
   "source": [
    "import pandas as pd\n",
    "import numpy as np\n",
    "import matplotlib.pyplot as plt\n",
    "\n"
   ]
  },
  {
   "cell_type": "code",
   "execution_count": 2,
   "metadata": {},
   "outputs": [],
   "source": [
    "fd = pd.read_csv('csvs/afterone.csv')"
   ]
  },
  {
   "cell_type": "code",
   "execution_count": 3,
   "metadata": {},
   "outputs": [
    {
     "data": {
      "text/plain": [
       "(4836, 45)"
      ]
     },
     "execution_count": 3,
     "metadata": {},
     "output_type": "execute_result"
    }
   ],
   "source": [
    "fd.shape"
   ]
  },
  {
   "cell_type": "code",
   "execution_count": 4,
   "metadata": {},
   "outputs": [],
   "source": [
    "#cluster analysis incoming \n"
   ]
  },
  {
   "cell_type": "code",
   "execution_count": 5,
   "metadata": {},
   "outputs": [],
   "source": [
    "from kmodes.kprototypes import KPrototypes\n"
   ]
  },
  {
   "cell_type": "code",
   "execution_count": 6,
   "metadata": {},
   "outputs": [],
   "source": [
    "import warnings\n",
    "warnings.filterwarnings('ignore', category = FutureWarning)"
   ]
  },
  {
   "cell_type": "code",
   "execution_count": 7,
   "metadata": {},
   "outputs": [],
   "source": [
    "#removing features not used in clustering for now\n",
    "df = fd[['exptotal', 'coalmetl', 'opercont', 'commod', 'district', 'ywtotal', 'age', 'sex', 'canvass', 'injtype', 'deginj', 'accinj', 'subunit', 'daystotl']]"
   ]
  },
  {
   "cell_type": "code",
   "execution_count": 8,
   "metadata": {},
   "outputs": [
    {
     "name": "stdout",
     "output_type": "stream",
     "text": [
      "<class 'pandas.core.frame.DataFrame'>\n",
      "RangeIndex: 4836 entries, 0 to 4835\n",
      "Data columns (total 14 columns):\n",
      " #   Column    Non-Null Count  Dtype  \n",
      "---  ------    --------------  -----  \n",
      " 0   exptotal  4836 non-null   float64\n",
      " 1   coalmetl  4836 non-null   object \n",
      " 2   opercont  4836 non-null   object \n",
      " 3   commod    4836 non-null   object \n",
      " 4   district  4836 non-null   object \n",
      " 5   ywtotal   4836 non-null   int64  \n",
      " 6   age       4836 non-null   int64  \n",
      " 7   sex       4836 non-null   object \n",
      " 8   canvass   4836 non-null   object \n",
      " 9   injtype   4836 non-null   object \n",
      " 10  deginj    4836 non-null   object \n",
      " 11  accinj    4836 non-null   object \n",
      " 12  subunit   4836 non-null   object \n",
      " 13  daystotl  4836 non-null   int64  \n",
      "dtypes: float64(1), int64(3), object(10)\n",
      "memory usage: 340.1+ KB\n"
     ]
    }
   ],
   "source": [
    "df.info()"
   ]
  },
  {
   "cell_type": "code",
   "execution_count": 9,
   "metadata": {},
   "outputs": [],
   "source": [
    "#plt.style.use('seaborn-darkgrid')\n",
    "#palette = plt.get_cmap('Set1')\n",
    "#num = 0\n",
    "#for column in df[['exptotal', 'ywtotal']]:\n",
    "#    num+=1\n",
    "#    plt.plot(range(0, 4836), df[column], marker='', color=palette(num), linewidth=1, alpha=0.9, label=column)\n",
    "#plt.legend(loc=2, ncol=2)\n",
    "#plt.show()\n"
   ]
  },
  {
   "cell_type": "code",
   "execution_count": 10,
   "metadata": {},
   "outputs": [
    {
     "data": {
      "text/plain": [
       "coalmetl     2\n",
       "opercont     2\n",
       "commod       7\n",
       "district    15\n",
       "sex          2\n",
       "canvass      6\n",
       "injtype      4\n",
       "deginj      10\n",
       "accinj      17\n",
       "subunit      9\n",
       "dtype: int64"
      ]
     },
     "execution_count": 10,
     "metadata": {},
     "output_type": "execute_result"
    }
   ],
   "source": [
    "df.select_dtypes('object').nunique()\n"
   ]
  },
  {
   "cell_type": "code",
   "execution_count": 11,
   "metadata": {},
   "outputs": [
    {
     "data": {
      "text/html": [
       "<div>\n",
       "<style scoped>\n",
       "    .dataframe tbody tr th:only-of-type {\n",
       "        vertical-align: middle;\n",
       "    }\n",
       "\n",
       "    .dataframe tbody tr th {\n",
       "        vertical-align: top;\n",
       "    }\n",
       "\n",
       "    .dataframe thead th {\n",
       "        text-align: right;\n",
       "    }\n",
       "</style>\n",
       "<table border=\"1\" class=\"dataframe\">\n",
       "  <thead>\n",
       "    <tr style=\"text-align: right;\">\n",
       "      <th></th>\n",
       "      <th>exptotal</th>\n",
       "      <th>ywtotal</th>\n",
       "      <th>age</th>\n",
       "      <th>daystotl</th>\n",
       "    </tr>\n",
       "  </thead>\n",
       "  <tbody>\n",
       "    <tr>\n",
       "      <th>count</th>\n",
       "      <td>4836.000000</td>\n",
       "      <td>4836.000000</td>\n",
       "      <td>4836.000000</td>\n",
       "      <td>4836.000000</td>\n",
       "    </tr>\n",
       "    <tr>\n",
       "      <th>mean</th>\n",
       "      <td>10.043332</td>\n",
       "      <td>10.955335</td>\n",
       "      <td>41.118900</td>\n",
       "      <td>115.256824</td>\n",
       "    </tr>\n",
       "    <tr>\n",
       "      <th>std</th>\n",
       "      <td>10.210454</td>\n",
       "      <td>9.429281</td>\n",
       "      <td>12.836339</td>\n",
       "      <td>634.057121</td>\n",
       "    </tr>\n",
       "    <tr>\n",
       "      <th>min</th>\n",
       "      <td>0.020000</td>\n",
       "      <td>5.000000</td>\n",
       "      <td>18.000000</td>\n",
       "      <td>0.000000</td>\n",
       "    </tr>\n",
       "    <tr>\n",
       "      <th>25%</th>\n",
       "      <td>2.000000</td>\n",
       "      <td>5.000000</td>\n",
       "      <td>30.000000</td>\n",
       "      <td>0.000000</td>\n",
       "    </tr>\n",
       "    <tr>\n",
       "      <th>50%</th>\n",
       "      <td>7.000000</td>\n",
       "      <td>5.000000</td>\n",
       "      <td>40.000000</td>\n",
       "      <td>10.000000</td>\n",
       "    </tr>\n",
       "    <tr>\n",
       "      <th>75%</th>\n",
       "      <td>14.960000</td>\n",
       "      <td>15.000000</td>\n",
       "      <td>52.000000</td>\n",
       "      <td>59.000000</td>\n",
       "    </tr>\n",
       "    <tr>\n",
       "      <th>max</th>\n",
       "      <td>56.000000</td>\n",
       "      <td>55.000000</td>\n",
       "      <td>84.000000</td>\n",
       "      <td>6000.000000</td>\n",
       "    </tr>\n",
       "  </tbody>\n",
       "</table>\n",
       "</div>"
      ],
      "text/plain": [
       "          exptotal      ywtotal          age     daystotl\n",
       "count  4836.000000  4836.000000  4836.000000  4836.000000\n",
       "mean     10.043332    10.955335    41.118900   115.256824\n",
       "std      10.210454     9.429281    12.836339   634.057121\n",
       "min       0.020000     5.000000    18.000000     0.000000\n",
       "25%       2.000000     5.000000    30.000000     0.000000\n",
       "50%       7.000000     5.000000    40.000000    10.000000\n",
       "75%      14.960000    15.000000    52.000000    59.000000\n",
       "max      56.000000    55.000000    84.000000  6000.000000"
      ]
     },
     "execution_count": 11,
     "metadata": {},
     "output_type": "execute_result"
    }
   ],
   "source": [
    "df.describe()\n"
   ]
  },
  {
   "cell_type": "code",
   "execution_count": 12,
   "metadata": {},
   "outputs": [
    {
     "name": "stderr",
     "output_type": "stream",
     "text": [
      "C:\\Users\\dead_phoenix\\AppData\\Roaming\\Python\\Python37\\site-packages\\ipykernel_launcher.py:4: SettingWithCopyWarning: \n",
      "A value is trying to be set on a copy of a slice from a DataFrame.\n",
      "Try using .loc[row_indexer,col_indexer] = value instead\n",
      "\n",
      "See the caveats in the documentation: https://pandas.pydata.org/pandas-docs/stable/user_guide/indexing.html#returning-a-view-versus-a-copy\n",
      "  after removing the cwd from sys.path.\n",
      "C:\\Users\\dead_phoenix\\AppData\\Local\\Programs\\Python\\Python37-32\\lib\\site-packages\\pandas\\core\\indexing.py:1734: SettingWithCopyWarning: \n",
      "A value is trying to be set on a copy of a slice from a DataFrame.\n",
      "Try using .loc[row_indexer,col_indexer] = value instead\n",
      "\n",
      "See the caveats in the documentation: https://pandas.pydata.org/pandas-docs/stable/user_guide/indexing.html#returning-a-view-versus-a-copy\n",
      "  isetter(loc, value[:, i].tolist())\n"
     ]
    },
    {
     "data": {
      "text/html": [
       "<div>\n",
       "<style scoped>\n",
       "    .dataframe tbody tr th:only-of-type {\n",
       "        vertical-align: middle;\n",
       "    }\n",
       "\n",
       "    .dataframe tbody tr th {\n",
       "        vertical-align: top;\n",
       "    }\n",
       "\n",
       "    .dataframe thead th {\n",
       "        text-align: right;\n",
       "    }\n",
       "</style>\n",
       "<table border=\"1\" class=\"dataframe\">\n",
       "  <thead>\n",
       "    <tr style=\"text-align: right;\">\n",
       "      <th></th>\n",
       "      <th>exptotal</th>\n",
       "      <th>coalmetl</th>\n",
       "      <th>opercont</th>\n",
       "      <th>commod</th>\n",
       "      <th>district</th>\n",
       "      <th>ywtotal</th>\n",
       "      <th>age</th>\n",
       "      <th>sex</th>\n",
       "      <th>canvass</th>\n",
       "      <th>injtype</th>\n",
       "      <th>deginj</th>\n",
       "      <th>accinj</th>\n",
       "      <th>subunit</th>\n",
       "      <th>daystotl</th>\n",
       "    </tr>\n",
       "  </thead>\n",
       "  <tbody>\n",
       "    <tr>\n",
       "      <th>0</th>\n",
       "      <td>0.205431</td>\n",
       "      <td>Metal/Nonmetal/Stone/S&amp;G</td>\n",
       "      <td>Operator</td>\n",
       "      <td>Stone operator</td>\n",
       "      <td>MSE-Southeast-Birmingham, AL</td>\n",
       "      <td>0.2</td>\n",
       "      <td>0.363636</td>\n",
       "      <td>Male</td>\n",
       "      <td>Stone</td>\n",
       "      <td>NFDL (Nonfatal, days lost)</td>\n",
       "      <td>Days of restricted activity only</td>\n",
       "      <td>Handling material</td>\n",
       "      <td>Mill or preparation plant:Mill prep plant or b...</td>\n",
       "      <td>0.000333</td>\n",
       "    </tr>\n",
       "    <tr>\n",
       "      <th>1</th>\n",
       "      <td>0.017149</td>\n",
       "      <td>Metal/Nonmetal/Stone/S&amp;G</td>\n",
       "      <td>Contractor</td>\n",
       "      <td>Noncoal contractor</td>\n",
       "      <td>MSE-Southeast-Birmingham, AL</td>\n",
       "      <td>0.0</td>\n",
       "      <td>0.212121</td>\n",
       "      <td>Male</td>\n",
       "      <td>Stone</td>\n",
       "      <td>NFDL (Nonfatal, days lost)</td>\n",
       "      <td>Days of restricted activity only</td>\n",
       "      <td>Stepping/kneeling on object</td>\n",
       "      <td>Surface:  Strip or open pit mines including as...</td>\n",
       "      <td>0.005333</td>\n",
       "    </tr>\n",
       "    <tr>\n",
       "      <th>2</th>\n",
       "      <td>0.001429</td>\n",
       "      <td>Metal/Nonmetal/Stone/S&amp;G</td>\n",
       "      <td>Contractor</td>\n",
       "      <td>Noncoal contractor</td>\n",
       "      <td>MSE-Southeast-Birmingham, AL</td>\n",
       "      <td>0.0</td>\n",
       "      <td>0.000000</td>\n",
       "      <td>Male</td>\n",
       "      <td>Stone</td>\n",
       "      <td>NFDL (Nonfatal, days lost)</td>\n",
       "      <td>Days of restricted activity only</td>\n",
       "      <td>Slip or fall of person</td>\n",
       "      <td>Surface:  Strip or open pit mines including as...</td>\n",
       "      <td>0.001167</td>\n",
       "    </tr>\n",
       "    <tr>\n",
       "      <th>3</th>\n",
       "      <td>0.267596</td>\n",
       "      <td>Metal/Nonmetal/Stone/S&amp;G</td>\n",
       "      <td>Operator</td>\n",
       "      <td>Stone operator</td>\n",
       "      <td>MSE-Southeast-Birmingham, AL</td>\n",
       "      <td>0.2</td>\n",
       "      <td>0.621212</td>\n",
       "      <td>Male</td>\n",
       "      <td>Stone</td>\n",
       "      <td>NFDL (Nonfatal, days lost)</td>\n",
       "      <td>Days away AND restricted activity</td>\n",
       "      <td>Handling material</td>\n",
       "      <td>Surface:  Strip or open pit mines including as...</td>\n",
       "      <td>0.004000</td>\n",
       "    </tr>\n",
       "    <tr>\n",
       "      <th>4</th>\n",
       "      <td>0.401929</td>\n",
       "      <td>Metal/Nonmetal/Stone/S&amp;G</td>\n",
       "      <td>Operator</td>\n",
       "      <td>Stone operator</td>\n",
       "      <td>MSE-Southeast-Birmingham, AL</td>\n",
       "      <td>0.4</td>\n",
       "      <td>0.681818</td>\n",
       "      <td>Male</td>\n",
       "      <td>Stone</td>\n",
       "      <td>NFDL (Nonfatal, days lost)</td>\n",
       "      <td>Days away from work only</td>\n",
       "      <td>Slip or fall of person</td>\n",
       "      <td>Surface:  Strip or open pit mines including as...</td>\n",
       "      <td>0.043000</td>\n",
       "    </tr>\n",
       "    <tr>\n",
       "      <th>...</th>\n",
       "      <td>...</td>\n",
       "      <td>...</td>\n",
       "      <td>...</td>\n",
       "      <td>...</td>\n",
       "      <td>...</td>\n",
       "      <td>...</td>\n",
       "      <td>...</td>\n",
       "      <td>...</td>\n",
       "      <td>...</td>\n",
       "      <td>...</td>\n",
       "      <td>...</td>\n",
       "      <td>...</td>\n",
       "      <td>...</td>\n",
       "      <td>...</td>\n",
       "    </tr>\n",
       "    <tr>\n",
       "      <th>4831</th>\n",
       "      <td>0.732047</td>\n",
       "      <td>Metal/Nonmetal/Stone/S&amp;G</td>\n",
       "      <td>Operator</td>\n",
       "      <td>Stone operator</td>\n",
       "      <td>MSE-Southeast-Birmingham, AL</td>\n",
       "      <td>0.8</td>\n",
       "      <td>0.681818</td>\n",
       "      <td>Male</td>\n",
       "      <td>Stone</td>\n",
       "      <td>NFDL (Nonfatal, days lost)</td>\n",
       "      <td>Days away from work only</td>\n",
       "      <td>Handling material</td>\n",
       "      <td>Mill or preparation plant:Mill prep plant or b...</td>\n",
       "      <td>0.000833</td>\n",
       "    </tr>\n",
       "    <tr>\n",
       "      <th>4832</th>\n",
       "      <td>0.068239</td>\n",
       "      <td>Metal/Nonmetal/Stone/S&amp;G</td>\n",
       "      <td>Operator</td>\n",
       "      <td>Stone operator</td>\n",
       "      <td>MSE-Southeast-Birmingham, AL</td>\n",
       "      <td>0.0</td>\n",
       "      <td>0.484848</td>\n",
       "      <td>Male</td>\n",
       "      <td>Stone</td>\n",
       "      <td>NFDL (Nonfatal, days lost)</td>\n",
       "      <td>Days away from work only</td>\n",
       "      <td>Handling material</td>\n",
       "      <td>Surface:  Strip or open pit mines including as...</td>\n",
       "      <td>0.001000</td>\n",
       "    </tr>\n",
       "    <tr>\n",
       "      <th>4833</th>\n",
       "      <td>0.055913</td>\n",
       "      <td>Metal/Nonmetal/Stone/S&amp;G</td>\n",
       "      <td>Operator</td>\n",
       "      <td>Stone operator</td>\n",
       "      <td>MSE-Southeast-Birmingham, AL</td>\n",
       "      <td>0.0</td>\n",
       "      <td>0.106061</td>\n",
       "      <td>Male</td>\n",
       "      <td>Stone</td>\n",
       "      <td>NFDL (Nonfatal, days lost)</td>\n",
       "      <td>Days away from work only</td>\n",
       "      <td>Slip or fall of person</td>\n",
       "      <td>Surface:  Strip or open pit mines including as...</td>\n",
       "      <td>0.002667</td>\n",
       "    </tr>\n",
       "    <tr>\n",
       "      <th>4834</th>\n",
       "      <td>0.088960</td>\n",
       "      <td>Metal/Nonmetal/Stone/S&amp;G</td>\n",
       "      <td>Operator</td>\n",
       "      <td>Stone operator</td>\n",
       "      <td>MSE-Southeast-Birmingham, AL</td>\n",
       "      <td>0.0</td>\n",
       "      <td>0.348485</td>\n",
       "      <td>Male</td>\n",
       "      <td>Stone</td>\n",
       "      <td>NFDL (Nonfatal, days lost)</td>\n",
       "      <td>Days away from work only</td>\n",
       "      <td>Handling material</td>\n",
       "      <td>Surface:  Strip or open pit mines including as...</td>\n",
       "      <td>0.028500</td>\n",
       "    </tr>\n",
       "    <tr>\n",
       "      <th>4835</th>\n",
       "      <td>0.017506</td>\n",
       "      <td>Metal/Nonmetal/Stone/S&amp;G</td>\n",
       "      <td>Operator</td>\n",
       "      <td>Nonmetal operator</td>\n",
       "      <td>MSE-Southeast-Birmingham, AL</td>\n",
       "      <td>0.0</td>\n",
       "      <td>0.106061</td>\n",
       "      <td>Male</td>\n",
       "      <td>Nonmetal</td>\n",
       "      <td>NFDL (Nonfatal, days lost)</td>\n",
       "      <td>Days away from work only</td>\n",
       "      <td>Slip or fall of person</td>\n",
       "      <td>Surface:  Strip or open pit mines including as...</td>\n",
       "      <td>0.003667</td>\n",
       "    </tr>\n",
       "  </tbody>\n",
       "</table>\n",
       "<p>4836 rows × 14 columns</p>\n",
       "</div>"
      ],
      "text/plain": [
       "      exptotal                  coalmetl    opercont              commod  \\\n",
       "0     0.205431  Metal/Nonmetal/Stone/S&G    Operator      Stone operator   \n",
       "1     0.017149  Metal/Nonmetal/Stone/S&G  Contractor  Noncoal contractor   \n",
       "2     0.001429  Metal/Nonmetal/Stone/S&G  Contractor  Noncoal contractor   \n",
       "3     0.267596  Metal/Nonmetal/Stone/S&G    Operator      Stone operator   \n",
       "4     0.401929  Metal/Nonmetal/Stone/S&G    Operator      Stone operator   \n",
       "...        ...                       ...         ...                 ...   \n",
       "4831  0.732047  Metal/Nonmetal/Stone/S&G    Operator      Stone operator   \n",
       "4832  0.068239  Metal/Nonmetal/Stone/S&G    Operator      Stone operator   \n",
       "4833  0.055913  Metal/Nonmetal/Stone/S&G    Operator      Stone operator   \n",
       "4834  0.088960  Metal/Nonmetal/Stone/S&G    Operator      Stone operator   \n",
       "4835  0.017506  Metal/Nonmetal/Stone/S&G    Operator   Nonmetal operator   \n",
       "\n",
       "                          district  ywtotal       age   sex   canvass  \\\n",
       "0     MSE-Southeast-Birmingham, AL      0.2  0.363636  Male     Stone   \n",
       "1     MSE-Southeast-Birmingham, AL      0.0  0.212121  Male     Stone   \n",
       "2     MSE-Southeast-Birmingham, AL      0.0  0.000000  Male     Stone   \n",
       "3     MSE-Southeast-Birmingham, AL      0.2  0.621212  Male     Stone   \n",
       "4     MSE-Southeast-Birmingham, AL      0.4  0.681818  Male     Stone   \n",
       "...                            ...      ...       ...   ...       ...   \n",
       "4831  MSE-Southeast-Birmingham, AL      0.8  0.681818  Male     Stone   \n",
       "4832  MSE-Southeast-Birmingham, AL      0.0  0.484848  Male     Stone   \n",
       "4833  MSE-Southeast-Birmingham, AL      0.0  0.106061  Male     Stone   \n",
       "4834  MSE-Southeast-Birmingham, AL      0.0  0.348485  Male     Stone   \n",
       "4835  MSE-Southeast-Birmingham, AL      0.0  0.106061  Male  Nonmetal   \n",
       "\n",
       "                         injtype                             deginj  \\\n",
       "0     NFDL (Nonfatal, days lost)   Days of restricted activity only   \n",
       "1     NFDL (Nonfatal, days lost)   Days of restricted activity only   \n",
       "2     NFDL (Nonfatal, days lost)   Days of restricted activity only   \n",
       "3     NFDL (Nonfatal, days lost)  Days away AND restricted activity   \n",
       "4     NFDL (Nonfatal, days lost)           Days away from work only   \n",
       "...                          ...                                ...   \n",
       "4831  NFDL (Nonfatal, days lost)           Days away from work only   \n",
       "4832  NFDL (Nonfatal, days lost)           Days away from work only   \n",
       "4833  NFDL (Nonfatal, days lost)           Days away from work only   \n",
       "4834  NFDL (Nonfatal, days lost)           Days away from work only   \n",
       "4835  NFDL (Nonfatal, days lost)           Days away from work only   \n",
       "\n",
       "                           accinj  \\\n",
       "0               Handling material   \n",
       "1     Stepping/kneeling on object   \n",
       "2          Slip or fall of person   \n",
       "3               Handling material   \n",
       "4          Slip or fall of person   \n",
       "...                           ...   \n",
       "4831            Handling material   \n",
       "4832            Handling material   \n",
       "4833       Slip or fall of person   \n",
       "4834            Handling material   \n",
       "4835       Slip or fall of person   \n",
       "\n",
       "                                                subunit  daystotl  \n",
       "0     Mill or preparation plant:Mill prep plant or b...  0.000333  \n",
       "1     Surface:  Strip or open pit mines including as...  0.005333  \n",
       "2     Surface:  Strip or open pit mines including as...  0.001167  \n",
       "3     Surface:  Strip or open pit mines including as...  0.004000  \n",
       "4     Surface:  Strip or open pit mines including as...  0.043000  \n",
       "...                                                 ...       ...  \n",
       "4831  Mill or preparation plant:Mill prep plant or b...  0.000833  \n",
       "4832  Surface:  Strip or open pit mines including as...  0.001000  \n",
       "4833  Surface:  Strip or open pit mines including as...  0.002667  \n",
       "4834  Surface:  Strip or open pit mines including as...  0.028500  \n",
       "4835  Surface:  Strip or open pit mines including as...  0.003667  \n",
       "\n",
       "[4836 rows x 14 columns]"
      ]
     },
     "execution_count": 12,
     "metadata": {},
     "output_type": "execute_result"
    }
   ],
   "source": [
    "from sklearn import preprocessing\n",
    "#df_scale= df.copy()\n",
    "scaler = preprocessing.MinMaxScaler()\n",
    "df[['exptotal','age', 'ywtotal', 'daystotl']] = scaler.fit_transform(df[['exptotal','age', 'ywtotal', 'daystotl']])\n",
    "df"
   ]
  },
  {
   "cell_type": "code",
   "execution_count": 13,
   "metadata": {},
   "outputs": [
    {
     "data": {
      "text/plain": [
       "exptotal    0\n",
       "coalmetl    0\n",
       "opercont    0\n",
       "commod      0\n",
       "district    0\n",
       "ywtotal     0\n",
       "age         0\n",
       "sex         0\n",
       "canvass     0\n",
       "injtype     0\n",
       "deginj      0\n",
       "accinj      0\n",
       "subunit     0\n",
       "daystotl    0\n",
       "dtype: int64"
      ]
     },
     "execution_count": 13,
     "metadata": {},
     "output_type": "execute_result"
    }
   ],
   "source": [
    "df.isna().sum()\n"
   ]
  },
  {
   "cell_type": "code",
   "execution_count": 14,
   "metadata": {},
   "outputs": [],
   "source": [
    "catColumnsPos = [df.columns.get_loc(col) for col in list(df.select_dtypes('object').columns)]"
   ]
  },
  {
   "cell_type": "code",
   "execution_count": 15,
   "metadata": {},
   "outputs": [],
   "source": [
    "dfMatrix = df.to_numpy()"
   ]
  },
  {
   "cell_type": "code",
   "execution_count": null,
   "metadata": {},
   "outputs": [],
   "source": [
    "cost = []\n",
    "for cluster in range(1, 10):\n",
    "    try:\n",
    "        kprototype = KPrototypes(n_jobs = -1, n_clusters = cluster, init = 'Huang', random_state = 0)\n",
    "        kprototype.fit_predict(dfMatrix, categorical = catColumnsPos)\n",
    "        cost.append(kprototype.cost_)\n",
    "        print('Cluster initiation: {}'.format(cluster))\n",
    "    except:\n",
    "        break"
   ]
  },
  {
   "cell_type": "code",
   "execution_count": null,
   "metadata": {},
   "outputs": [],
   "source": [
    "df_cost = pd.DataFrame({'Cluster':range(1, 10), 'Cost':cost})\n"
   ]
  },
  {
   "cell_type": "code",
   "execution_count": 16,
   "metadata": {},
   "outputs": [],
   "source": [
    "from plotnine import *\n",
    "import plotnine\n",
    "from plotnine import ggplot, aes, geom_line, geom_point, geom_label, labs, xlab, theme_minimal, ylab\n"
   ]
  },
  {
   "cell_type": "code",
   "execution_count": null,
   "metadata": {},
   "outputs": [],
   "source": [
    "(\n",
    "    ggplot(data = df_cost)+\n",
    "    geom_line(aes(x = 'Cluster',\n",
    "                  y = 'Cost'))+\n",
    "    geom_point(aes(x = 'Cluster',\n",
    "                   y = 'Cost'))+\n",
    "    geom_label(aes(x = 'Cluster',\n",
    "                   y = 'Cost',\n",
    "                   label = 'Cluster'),\n",
    "               size = 10,\n",
    "               nudge_y = 1000) +\n",
    "    labs(title = 'Optimal number of cluster with Elbow Method')+\n",
    "    xlab('Number of Clusters k')+\n",
    "    ylab('Cost')+\n",
    "    theme_minimal()\n",
    ")"
   ]
  },
  {
   "cell_type": "code",
   "execution_count": null,
   "metadata": {},
   "outputs": [],
   "source": [
    "#looks like the elbow plot is bending at 2\n"
   ]
  },
  {
   "cell_type": "code",
   "execution_count": 17,
   "metadata": {},
   "outputs": [
    {
     "data": {
      "text/plain": [
       "array([1, 1, 1, ..., 1, 1, 1], dtype=uint16)"
      ]
     },
     "execution_count": 17,
     "metadata": {},
     "output_type": "execute_result"
    }
   ],
   "source": [
    "kprototype = KPrototypes(n_jobs = -1, n_clusters = 2, init = 'Huang', random_state = 0)\n",
    "kprototype.fit_predict(dfMatrix, categorical = catColumnsPos)"
   ]
  },
  {
   "cell_type": "code",
   "execution_count": 18,
   "metadata": {},
   "outputs": [
    {
     "data": {
      "text/plain": [
       "array([['0.25485052244364087', '0.1870203160270863',\n",
       "        '0.3692198508789908', '0.020649454477050487', 'Coal', 'Operator',\n",
       "        'Coal operator', 'C03-Morgantown, WV', 'Male', 'Bituminous Coal',\n",
       "        'NFDL (Nonfatal, days lost)', 'Days away from work only',\n",
       "        'Handling material',\n",
       "        'Underground operations:All underground operations below surface of ground.Excavations beneath roof.Hoisting to surface.'],\n",
       "       ['0.13521555195516466', '0.07983028720626568',\n",
       "        '0.33933657726085786', '0.018376686248912002',\n",
       "        'Metal/Nonmetal/Stone/S&G', 'Operator', 'Stone operator',\n",
       "        'MRM-Rocky Mountain-Denver, CO', 'Male', 'Stone',\n",
       "        'NFDL (Nonfatal, days lost)', 'Days of restricted activity only',\n",
       "        'Handling material',\n",
       "        'Surface:  Strip or open pit mines including associated shops and yards']],\n",
       "      dtype='<U119')"
      ]
     },
     "execution_count": 18,
     "metadata": {},
     "output_type": "execute_result"
    }
   ],
   "source": [
    "kprototype.cluster_centroids_"
   ]
  },
  {
   "cell_type": "code",
   "execution_count": 19,
   "metadata": {},
   "outputs": [
    {
     "data": {
      "text/plain": [
       "8"
      ]
     },
     "execution_count": 19,
     "metadata": {},
     "output_type": "execute_result"
    }
   ],
   "source": [
    "kprototype.n_iter_\n"
   ]
  },
  {
   "cell_type": "code",
   "execution_count": 20,
   "metadata": {},
   "outputs": [
    {
     "data": {
      "text/plain": [
       "2494.572756851917"
      ]
     },
     "execution_count": 20,
     "metadata": {},
     "output_type": "execute_result"
    }
   ],
   "source": [
    "kprototype.cost_\n"
   ]
  },
  {
   "cell_type": "code",
   "execution_count": 21,
   "metadata": {},
   "outputs": [
    {
     "name": "stderr",
     "output_type": "stream",
     "text": [
      "C:\\Users\\dead_phoenix\\AppData\\Roaming\\Python\\Python37\\site-packages\\ipykernel_launcher.py:1: SettingWithCopyWarning: \n",
      "A value is trying to be set on a copy of a slice from a DataFrame.\n",
      "Try using .loc[row_indexer,col_indexer] = value instead\n",
      "\n",
      "See the caveats in the documentation: https://pandas.pydata.org/pandas-docs/stable/user_guide/indexing.html#returning-a-view-versus-a-copy\n"
     ]
    }
   ],
   "source": [
    "df['Cluster Labels'] = kprototype.labels_\n"
   ]
  },
  {
   "cell_type": "code",
   "execution_count": 22,
   "metadata": {},
   "outputs": [
    {
     "name": "stderr",
     "output_type": "stream",
     "text": [
      "C:\\Users\\dead_phoenix\\AppData\\Roaming\\Python\\Python37\\site-packages\\ipykernel_launcher.py:1: SettingWithCopyWarning: \n",
      "A value is trying to be set on a copy of a slice from a DataFrame.\n",
      "Try using .loc[row_indexer,col_indexer] = value instead\n",
      "\n",
      "See the caveats in the documentation: https://pandas.pydata.org/pandas-docs/stable/user_guide/indexing.html#returning-a-view-versus-a-copy\n"
     ]
    }
   ],
   "source": [
    "df['Segment'] = df['Cluster Labels'].map({0:'First', 1:'Second'})\n"
   ]
  },
  {
   "cell_type": "code",
   "execution_count": 23,
   "metadata": {},
   "outputs": [
    {
     "name": "stderr",
     "output_type": "stream",
     "text": [
      "C:\\Users\\dead_phoenix\\AppData\\Roaming\\Python\\Python37\\site-packages\\ipykernel_launcher.py:1: SettingWithCopyWarning: \n",
      "A value is trying to be set on a copy of a slice from a DataFrame.\n",
      "Try using .loc[row_indexer,col_indexer] = value instead\n",
      "\n",
      "See the caveats in the documentation: https://pandas.pydata.org/pandas-docs/stable/user_guide/indexing.html#returning-a-view-versus-a-copy\n"
     ]
    }
   ],
   "source": [
    "df['Segment'] = df['Segment'].astype('category')\n"
   ]
  },
  {
   "cell_type": "code",
   "execution_count": 24,
   "metadata": {},
   "outputs": [
    {
     "name": "stderr",
     "output_type": "stream",
     "text": [
      "C:\\Users\\dead_phoenix\\AppData\\Roaming\\Python\\Python37\\site-packages\\ipykernel_launcher.py:1: SettingWithCopyWarning: \n",
      "A value is trying to be set on a copy of a slice from a DataFrame.\n",
      "Try using .loc[row_indexer,col_indexer] = value instead\n",
      "\n",
      "See the caveats in the documentation: https://pandas.pydata.org/pandas-docs/stable/user_guide/indexing.html#returning-a-view-versus-a-copy\n"
     ]
    }
   ],
   "source": [
    "df['Segment'] = df['Segment'].cat.reorder_categories(['First','Second'])"
   ]
  },
  {
   "cell_type": "code",
   "execution_count": 25,
   "metadata": {},
   "outputs": [
    {
     "data": {
      "text/html": [
       "<div>\n",
       "<style scoped>\n",
       "    .dataframe tbody tr th:only-of-type {\n",
       "        vertical-align: middle;\n",
       "    }\n",
       "\n",
       "    .dataframe tbody tr th {\n",
       "        vertical-align: top;\n",
       "    }\n",
       "\n",
       "    .dataframe thead th {\n",
       "        text-align: right;\n",
       "    }\n",
       "</style>\n",
       "<table border=\"1\" class=\"dataframe\">\n",
       "  <thead>\n",
       "    <tr style=\"text-align: right;\">\n",
       "      <th></th>\n",
       "      <th>exptotal</th>\n",
       "      <th>coalmetl</th>\n",
       "      <th>opercont</th>\n",
       "      <th>commod</th>\n",
       "      <th>district</th>\n",
       "      <th>ywtotal</th>\n",
       "      <th>age</th>\n",
       "      <th>sex</th>\n",
       "      <th>canvass</th>\n",
       "      <th>injtype</th>\n",
       "      <th>deginj</th>\n",
       "      <th>accinj</th>\n",
       "      <th>subunit</th>\n",
       "      <th>daystotl</th>\n",
       "      <th>Cluster Labels</th>\n",
       "      <th>Segment</th>\n",
       "    </tr>\n",
       "  </thead>\n",
       "  <tbody>\n",
       "    <tr>\n",
       "      <th>0</th>\n",
       "      <td>0.205431</td>\n",
       "      <td>Metal/Nonmetal/Stone/S&amp;G</td>\n",
       "      <td>Operator</td>\n",
       "      <td>Stone operator</td>\n",
       "      <td>MSE-Southeast-Birmingham, AL</td>\n",
       "      <td>0.2</td>\n",
       "      <td>0.363636</td>\n",
       "      <td>Male</td>\n",
       "      <td>Stone</td>\n",
       "      <td>NFDL (Nonfatal, days lost)</td>\n",
       "      <td>Days of restricted activity only</td>\n",
       "      <td>Handling material</td>\n",
       "      <td>Mill or preparation plant:Mill prep plant or b...</td>\n",
       "      <td>0.000333</td>\n",
       "      <td>1</td>\n",
       "      <td>Second</td>\n",
       "    </tr>\n",
       "    <tr>\n",
       "      <th>1</th>\n",
       "      <td>0.017149</td>\n",
       "      <td>Metal/Nonmetal/Stone/S&amp;G</td>\n",
       "      <td>Contractor</td>\n",
       "      <td>Noncoal contractor</td>\n",
       "      <td>MSE-Southeast-Birmingham, AL</td>\n",
       "      <td>0.0</td>\n",
       "      <td>0.212121</td>\n",
       "      <td>Male</td>\n",
       "      <td>Stone</td>\n",
       "      <td>NFDL (Nonfatal, days lost)</td>\n",
       "      <td>Days of restricted activity only</td>\n",
       "      <td>Stepping/kneeling on object</td>\n",
       "      <td>Surface:  Strip or open pit mines including as...</td>\n",
       "      <td>0.005333</td>\n",
       "      <td>1</td>\n",
       "      <td>Second</td>\n",
       "    </tr>\n",
       "    <tr>\n",
       "      <th>2</th>\n",
       "      <td>0.001429</td>\n",
       "      <td>Metal/Nonmetal/Stone/S&amp;G</td>\n",
       "      <td>Contractor</td>\n",
       "      <td>Noncoal contractor</td>\n",
       "      <td>MSE-Southeast-Birmingham, AL</td>\n",
       "      <td>0.0</td>\n",
       "      <td>0.000000</td>\n",
       "      <td>Male</td>\n",
       "      <td>Stone</td>\n",
       "      <td>NFDL (Nonfatal, days lost)</td>\n",
       "      <td>Days of restricted activity only</td>\n",
       "      <td>Slip or fall of person</td>\n",
       "      <td>Surface:  Strip or open pit mines including as...</td>\n",
       "      <td>0.001167</td>\n",
       "      <td>1</td>\n",
       "      <td>Second</td>\n",
       "    </tr>\n",
       "    <tr>\n",
       "      <th>3</th>\n",
       "      <td>0.267596</td>\n",
       "      <td>Metal/Nonmetal/Stone/S&amp;G</td>\n",
       "      <td>Operator</td>\n",
       "      <td>Stone operator</td>\n",
       "      <td>MSE-Southeast-Birmingham, AL</td>\n",
       "      <td>0.2</td>\n",
       "      <td>0.621212</td>\n",
       "      <td>Male</td>\n",
       "      <td>Stone</td>\n",
       "      <td>NFDL (Nonfatal, days lost)</td>\n",
       "      <td>Days away AND restricted activity</td>\n",
       "      <td>Handling material</td>\n",
       "      <td>Surface:  Strip or open pit mines including as...</td>\n",
       "      <td>0.004000</td>\n",
       "      <td>1</td>\n",
       "      <td>Second</td>\n",
       "    </tr>\n",
       "    <tr>\n",
       "      <th>4</th>\n",
       "      <td>0.401929</td>\n",
       "      <td>Metal/Nonmetal/Stone/S&amp;G</td>\n",
       "      <td>Operator</td>\n",
       "      <td>Stone operator</td>\n",
       "      <td>MSE-Southeast-Birmingham, AL</td>\n",
       "      <td>0.4</td>\n",
       "      <td>0.681818</td>\n",
       "      <td>Male</td>\n",
       "      <td>Stone</td>\n",
       "      <td>NFDL (Nonfatal, days lost)</td>\n",
       "      <td>Days away from work only</td>\n",
       "      <td>Slip or fall of person</td>\n",
       "      <td>Surface:  Strip or open pit mines including as...</td>\n",
       "      <td>0.043000</td>\n",
       "      <td>1</td>\n",
       "      <td>Second</td>\n",
       "    </tr>\n",
       "  </tbody>\n",
       "</table>\n",
       "</div>"
      ],
      "text/plain": [
       "   exptotal                  coalmetl    opercont              commod  \\\n",
       "0  0.205431  Metal/Nonmetal/Stone/S&G    Operator      Stone operator   \n",
       "1  0.017149  Metal/Nonmetal/Stone/S&G  Contractor  Noncoal contractor   \n",
       "2  0.001429  Metal/Nonmetal/Stone/S&G  Contractor  Noncoal contractor   \n",
       "3  0.267596  Metal/Nonmetal/Stone/S&G    Operator      Stone operator   \n",
       "4  0.401929  Metal/Nonmetal/Stone/S&G    Operator      Stone operator   \n",
       "\n",
       "                       district  ywtotal       age   sex canvass  \\\n",
       "0  MSE-Southeast-Birmingham, AL      0.2  0.363636  Male   Stone   \n",
       "1  MSE-Southeast-Birmingham, AL      0.0  0.212121  Male   Stone   \n",
       "2  MSE-Southeast-Birmingham, AL      0.0  0.000000  Male   Stone   \n",
       "3  MSE-Southeast-Birmingham, AL      0.2  0.621212  Male   Stone   \n",
       "4  MSE-Southeast-Birmingham, AL      0.4  0.681818  Male   Stone   \n",
       "\n",
       "                      injtype                             deginj  \\\n",
       "0  NFDL (Nonfatal, days lost)   Days of restricted activity only   \n",
       "1  NFDL (Nonfatal, days lost)   Days of restricted activity only   \n",
       "2  NFDL (Nonfatal, days lost)   Days of restricted activity only   \n",
       "3  NFDL (Nonfatal, days lost)  Days away AND restricted activity   \n",
       "4  NFDL (Nonfatal, days lost)           Days away from work only   \n",
       "\n",
       "                        accinj  \\\n",
       "0            Handling material   \n",
       "1  Stepping/kneeling on object   \n",
       "2       Slip or fall of person   \n",
       "3            Handling material   \n",
       "4       Slip or fall of person   \n",
       "\n",
       "                                             subunit  daystotl  \\\n",
       "0  Mill or preparation plant:Mill prep plant or b...  0.000333   \n",
       "1  Surface:  Strip or open pit mines including as...  0.005333   \n",
       "2  Surface:  Strip or open pit mines including as...  0.001167   \n",
       "3  Surface:  Strip or open pit mines including as...  0.004000   \n",
       "4  Surface:  Strip or open pit mines including as...  0.043000   \n",
       "\n",
       "   Cluster Labels Segment  \n",
       "0               1  Second  \n",
       "1               1  Second  \n",
       "2               1  Second  \n",
       "3               1  Second  \n",
       "4               1  Second  "
      ]
     },
     "execution_count": 25,
     "metadata": {},
     "output_type": "execute_result"
    }
   ],
   "source": [
    "df.head()"
   ]
  },
  {
   "cell_type": "code",
   "execution_count": 26,
   "metadata": {},
   "outputs": [
    {
     "name": "stderr",
     "output_type": "stream",
     "text": [
      "C:\\Users\\dead_phoenix\\AppData\\Local\\Programs\\Python\\Python37-32\\lib\\site-packages\\pandas\\core\\frame.py:4308: SettingWithCopyWarning: \n",
      "A value is trying to be set on a copy of a slice from a DataFrame\n",
      "\n",
      "See the caveats in the documentation: https://pandas.pydata.org/pandas-docs/stable/user_guide/indexing.html#returning-a-view-versus-a-copy\n"
     ]
    }
   ],
   "source": [
    "df.rename(columns = {'Cluster Labels':'Total'}, inplace = True)\n"
   ]
  },
  {
   "cell_type": "code",
   "execution_count": 27,
   "metadata": {},
   "outputs": [
    {
     "data": {
      "text/html": [
       "<div>\n",
       "<style scoped>\n",
       "    .dataframe tbody tr th:only-of-type {\n",
       "        vertical-align: middle;\n",
       "    }\n",
       "\n",
       "    .dataframe tbody tr th {\n",
       "        vertical-align: top;\n",
       "    }\n",
       "\n",
       "    .dataframe thead th {\n",
       "        text-align: right;\n",
       "    }\n",
       "</style>\n",
       "<table border=\"1\" class=\"dataframe\">\n",
       "  <thead>\n",
       "    <tr style=\"text-align: right;\">\n",
       "      <th></th>\n",
       "      <th>exptotal</th>\n",
       "      <th>coalmetl</th>\n",
       "      <th>opercont</th>\n",
       "      <th>commod</th>\n",
       "      <th>district</th>\n",
       "      <th>ywtotal</th>\n",
       "      <th>age</th>\n",
       "      <th>sex</th>\n",
       "      <th>canvass</th>\n",
       "      <th>injtype</th>\n",
       "      <th>deginj</th>\n",
       "      <th>accinj</th>\n",
       "      <th>subunit</th>\n",
       "      <th>daystotl</th>\n",
       "      <th>Total</th>\n",
       "      <th>Segment</th>\n",
       "    </tr>\n",
       "  </thead>\n",
       "  <tbody>\n",
       "    <tr>\n",
       "      <th>0</th>\n",
       "      <td>0.205431</td>\n",
       "      <td>Metal/Nonmetal/Stone/S&amp;G</td>\n",
       "      <td>Operator</td>\n",
       "      <td>Stone operator</td>\n",
       "      <td>MSE-Southeast-Birmingham, AL</td>\n",
       "      <td>0.2</td>\n",
       "      <td>0.363636</td>\n",
       "      <td>Male</td>\n",
       "      <td>Stone</td>\n",
       "      <td>NFDL (Nonfatal, days lost)</td>\n",
       "      <td>Days of restricted activity only</td>\n",
       "      <td>Handling material</td>\n",
       "      <td>Mill or preparation plant:Mill prep plant or b...</td>\n",
       "      <td>0.000333</td>\n",
       "      <td>1</td>\n",
       "      <td>Second</td>\n",
       "    </tr>\n",
       "    <tr>\n",
       "      <th>1</th>\n",
       "      <td>0.017149</td>\n",
       "      <td>Metal/Nonmetal/Stone/S&amp;G</td>\n",
       "      <td>Contractor</td>\n",
       "      <td>Noncoal contractor</td>\n",
       "      <td>MSE-Southeast-Birmingham, AL</td>\n",
       "      <td>0.0</td>\n",
       "      <td>0.212121</td>\n",
       "      <td>Male</td>\n",
       "      <td>Stone</td>\n",
       "      <td>NFDL (Nonfatal, days lost)</td>\n",
       "      <td>Days of restricted activity only</td>\n",
       "      <td>Stepping/kneeling on object</td>\n",
       "      <td>Surface:  Strip or open pit mines including as...</td>\n",
       "      <td>0.005333</td>\n",
       "      <td>1</td>\n",
       "      <td>Second</td>\n",
       "    </tr>\n",
       "    <tr>\n",
       "      <th>2</th>\n",
       "      <td>0.001429</td>\n",
       "      <td>Metal/Nonmetal/Stone/S&amp;G</td>\n",
       "      <td>Contractor</td>\n",
       "      <td>Noncoal contractor</td>\n",
       "      <td>MSE-Southeast-Birmingham, AL</td>\n",
       "      <td>0.0</td>\n",
       "      <td>0.000000</td>\n",
       "      <td>Male</td>\n",
       "      <td>Stone</td>\n",
       "      <td>NFDL (Nonfatal, days lost)</td>\n",
       "      <td>Days of restricted activity only</td>\n",
       "      <td>Slip or fall of person</td>\n",
       "      <td>Surface:  Strip or open pit mines including as...</td>\n",
       "      <td>0.001167</td>\n",
       "      <td>1</td>\n",
       "      <td>Second</td>\n",
       "    </tr>\n",
       "    <tr>\n",
       "      <th>3</th>\n",
       "      <td>0.267596</td>\n",
       "      <td>Metal/Nonmetal/Stone/S&amp;G</td>\n",
       "      <td>Operator</td>\n",
       "      <td>Stone operator</td>\n",
       "      <td>MSE-Southeast-Birmingham, AL</td>\n",
       "      <td>0.2</td>\n",
       "      <td>0.621212</td>\n",
       "      <td>Male</td>\n",
       "      <td>Stone</td>\n",
       "      <td>NFDL (Nonfatal, days lost)</td>\n",
       "      <td>Days away AND restricted activity</td>\n",
       "      <td>Handling material</td>\n",
       "      <td>Surface:  Strip or open pit mines including as...</td>\n",
       "      <td>0.004000</td>\n",
       "      <td>1</td>\n",
       "      <td>Second</td>\n",
       "    </tr>\n",
       "    <tr>\n",
       "      <th>4</th>\n",
       "      <td>0.401929</td>\n",
       "      <td>Metal/Nonmetal/Stone/S&amp;G</td>\n",
       "      <td>Operator</td>\n",
       "      <td>Stone operator</td>\n",
       "      <td>MSE-Southeast-Birmingham, AL</td>\n",
       "      <td>0.4</td>\n",
       "      <td>0.681818</td>\n",
       "      <td>Male</td>\n",
       "      <td>Stone</td>\n",
       "      <td>NFDL (Nonfatal, days lost)</td>\n",
       "      <td>Days away from work only</td>\n",
       "      <td>Slip or fall of person</td>\n",
       "      <td>Surface:  Strip or open pit mines including as...</td>\n",
       "      <td>0.043000</td>\n",
       "      <td>1</td>\n",
       "      <td>Second</td>\n",
       "    </tr>\n",
       "  </tbody>\n",
       "</table>\n",
       "</div>"
      ],
      "text/plain": [
       "   exptotal                  coalmetl    opercont              commod  \\\n",
       "0  0.205431  Metal/Nonmetal/Stone/S&G    Operator      Stone operator   \n",
       "1  0.017149  Metal/Nonmetal/Stone/S&G  Contractor  Noncoal contractor   \n",
       "2  0.001429  Metal/Nonmetal/Stone/S&G  Contractor  Noncoal contractor   \n",
       "3  0.267596  Metal/Nonmetal/Stone/S&G    Operator      Stone operator   \n",
       "4  0.401929  Metal/Nonmetal/Stone/S&G    Operator      Stone operator   \n",
       "\n",
       "                       district  ywtotal       age   sex canvass  \\\n",
       "0  MSE-Southeast-Birmingham, AL      0.2  0.363636  Male   Stone   \n",
       "1  MSE-Southeast-Birmingham, AL      0.0  0.212121  Male   Stone   \n",
       "2  MSE-Southeast-Birmingham, AL      0.0  0.000000  Male   Stone   \n",
       "3  MSE-Southeast-Birmingham, AL      0.2  0.621212  Male   Stone   \n",
       "4  MSE-Southeast-Birmingham, AL      0.4  0.681818  Male   Stone   \n",
       "\n",
       "                      injtype                             deginj  \\\n",
       "0  NFDL (Nonfatal, days lost)   Days of restricted activity only   \n",
       "1  NFDL (Nonfatal, days lost)   Days of restricted activity only   \n",
       "2  NFDL (Nonfatal, days lost)   Days of restricted activity only   \n",
       "3  NFDL (Nonfatal, days lost)  Days away AND restricted activity   \n",
       "4  NFDL (Nonfatal, days lost)           Days away from work only   \n",
       "\n",
       "                        accinj  \\\n",
       "0            Handling material   \n",
       "1  Stepping/kneeling on object   \n",
       "2       Slip or fall of person   \n",
       "3            Handling material   \n",
       "4       Slip or fall of person   \n",
       "\n",
       "                                             subunit  daystotl  Total Segment  \n",
       "0  Mill or preparation plant:Mill prep plant or b...  0.000333      1  Second  \n",
       "1  Surface:  Strip or open pit mines including as...  0.005333      1  Second  \n",
       "2  Surface:  Strip or open pit mines including as...  0.001167      1  Second  \n",
       "3  Surface:  Strip or open pit mines including as...  0.004000      1  Second  \n",
       "4  Surface:  Strip or open pit mines including as...  0.043000      1  Second  "
      ]
     },
     "execution_count": 27,
     "metadata": {},
     "output_type": "execute_result"
    }
   ],
   "source": [
    "df.head()"
   ]
  },
  {
   "cell_type": "code",
   "execution_count": 52,
   "metadata": {},
   "outputs": [],
   "source": [
    "filt_label0 = df.loc[df.Total == 0, ['exptotal', 'age'] ]\n",
    "filt_label1 = df.loc[df.Total == 1, ['exptotal', 'age'] ]"
   ]
  },
  {
   "cell_type": "code",
   "execution_count": 53,
   "metadata": {},
   "outputs": [
    {
     "data": {
      "image/png": "[encoded data removed]",
      "text/plain": [
       "<Figure size 432x288 with 1 Axes>"
      ]
     },
     "metadata": {
      "needs_background": "light"
     },
     "output_type": "display_data"
    }
   ],
   "source": [
    "plt.scatter(filt_label0.iloc[:,0] , filt_label0.iloc[:,1] , color = 'blue')\n",
    "plt.scatter(filt_label1.iloc[:,0] , filt_label1.iloc[:,1] , color = 'orange')\n",
    "plt.xlabel(\"exptotal\")\n",
    "plt.ylabel(\"age\")\n",
    "plt.legend([\"Segment 1\" , \"Segment 2\"])\n",
    "plt.show()"
   ]
  },
  {
   "cell_type": "code",
   "execution_count": 54,
   "metadata": {},
   "outputs": [
    {
     "data": {
      "image/png": "[encoded data removed]",
      "text/plain": [
       "<Figure size 432x288 with 1 Axes>"
      ]
     },
     "metadata": {
      "needs_background": "light"
     },
     "output_type": "display_data"
    }
   ],
   "source": [
    "filt_label0 = df.loc[df.Total == 0, ['daystotl', 'age'] ]\n",
    "filt_label1 = df.loc[df.Total == 1, ['daystotl', 'age'] ]\n",
    "plt.scatter(filt_label0.iloc[:,0] , filt_label0.iloc[:,1] , color = 'blue')\n",
    "plt.scatter(filt_label1.iloc[:,0] , filt_label1.iloc[:,1] , color = 'orange')\n",
    "plt.xlabel(\"daystotl\")\n",
    "plt.ylabel(\"age\")\n",
    "plt.legend([\"Segment 1\" , \"Segment 2\"])\n",
    "plt.show()"
   ]
  },
  {
   "cell_type": "code",
   "execution_count": 30,
   "metadata": {},
   "outputs": [],
   "source": [
    "import seaborn as sns\n",
    "#sns.set_theme(style=\"whitegrid\")\n",
    "#sns.swarmplot(x= \"opercont\", y= \"commod\", hue = \"Segment\", data = df, size = 1)"
   ]
  },
  {
   "cell_type": "code",
   "execution_count": 32,
   "metadata": {},
   "outputs": [
    {
     "name": "stderr",
     "output_type": "stream",
     "text": [
      "C:\\Users\\dead_phoenix\\AppData\\Roaming\\Python\\Python37\\site-packages\\ipykernel_launcher.py:1: SettingWithCopyWarning: \n",
      "A value is trying to be set on a copy of a slice from a DataFrame.\n",
      "Try using .loc[row_indexer,col_indexer] = value instead\n",
      "\n",
      "See the caveats in the documentation: https://pandas.pydata.org/pandas-docs/stable/user_guide/indexing.html#returning-a-view-versus-a-copy\n",
      "C:\\Users\\dead_phoenix\\AppData\\Roaming\\Python\\Python37\\site-packages\\ipykernel_launcher.py:2: SettingWithCopyWarning: \n",
      "A value is trying to be set on a copy of a slice from a DataFrame.\n",
      "Try using .loc[row_indexer,col_indexer] = value instead\n",
      "\n",
      "See the caveats in the documentation: https://pandas.pydata.org/pandas-docs/stable/user_guide/indexing.html#returning-a-view-versus-a-copy\n",
      "C:\\Users\\dead_phoenix\\AppData\\Roaming\\Python\\Python37\\site-packages\\ipykernel_launcher.py:3: SettingWithCopyWarning: \n",
      "A value is trying to be set on a copy of a slice from a DataFrame.\n",
      "Try using .loc[row_indexer,col_indexer] = value instead\n",
      "\n",
      "See the caveats in the documentation: https://pandas.pydata.org/pandas-docs/stable/user_guide/indexing.html#returning-a-view-versus-a-copy\n",
      "C:\\Users\\dead_phoenix\\AppData\\Roaming\\Python\\Python37\\site-packages\\ipykernel_launcher.py:4: SettingWithCopyWarning: \n",
      "A value is trying to be set on a copy of a slice from a DataFrame.\n",
      "Try using .loc[row_indexer,col_indexer] = value instead\n",
      "\n",
      "See the caveats in the documentation: https://pandas.pydata.org/pandas-docs/stable/user_guide/indexing.html#returning-a-view-versus-a-copy\n"
     ]
    }
   ],
   "source": [
    "df['exptotalus'] = fd.exptotal\n",
    "df['ywtotalus'] = fd['ywtotal']\n",
    "df['ageus'] = fd['age']\n",
    "df['daystotlus'] = fd['daystotl']"
   ]
  },
  {
   "cell_type": "code",
   "execution_count": 43,
   "metadata": {},
   "outputs": [
    {
     "data": {
      "text/html": [
       "<div>\n",
       "<style scoped>\n",
       "    .dataframe tbody tr th:only-of-type {\n",
       "        vertical-align: middle;\n",
       "    }\n",
       "\n",
       "    .dataframe tbody tr th {\n",
       "        vertical-align: top;\n",
       "    }\n",
       "\n",
       "    .dataframe thead th {\n",
       "        text-align: right;\n",
       "    }\n",
       "</style>\n",
       "<table border=\"1\" class=\"dataframe\">\n",
       "  <thead>\n",
       "    <tr style=\"text-align: right;\">\n",
       "      <th></th>\n",
       "      <th>Segment</th>\n",
       "      <th>Total</th>\n",
       "      <th>coalmetl</th>\n",
       "      <th>commod</th>\n",
       "      <th>sex</th>\n",
       "      <th>canvass</th>\n",
       "      <th>exptotalus</th>\n",
       "      <th>ageus</th>\n",
       "      <th>ywtotalus</th>\n",
       "      <th>accinj</th>\n",
       "      <th>daystotlus</th>\n",
       "    </tr>\n",
       "  </thead>\n",
       "  <tbody>\n",
       "    <tr>\n",
       "      <th>0</th>\n",
       "      <td>First</td>\n",
       "      <td>1772</td>\n",
       "      <td>Coal</td>\n",
       "      <td>Coal operator</td>\n",
       "      <td>Male</td>\n",
       "      <td>Bituminous Coal</td>\n",
       "      <td>14.286532</td>\n",
       "      <td>42.368510</td>\n",
       "      <td>14.351016</td>\n",
       "      <td>Handling material</td>\n",
       "      <td>123.896727</td>\n",
       "    </tr>\n",
       "    <tr>\n",
       "      <th>1</th>\n",
       "      <td>Second</td>\n",
       "      <td>3064</td>\n",
       "      <td>Metal/Nonmetal/Stone/S&amp;G</td>\n",
       "      <td>Stone operator</td>\n",
       "      <td>Male</td>\n",
       "      <td>Stone</td>\n",
       "      <td>7.589367</td>\n",
       "      <td>40.396214</td>\n",
       "      <td>8.991514</td>\n",
       "      <td>Handling material</td>\n",
       "      <td>110.260117</td>\n",
       "    </tr>\n",
       "  </tbody>\n",
       "</table>\n",
       "</div>"
      ],
      "text/plain": [
       "  Segment  Total                  coalmetl          commod   sex  \\\n",
       "0   First   1772                      Coal   Coal operator  Male   \n",
       "1  Second   3064  Metal/Nonmetal/Stone/S&G  Stone operator  Male   \n",
       "\n",
       "           canvass  exptotalus      ageus  ywtotalus             accinj  \\\n",
       "0  Bituminous Coal   14.286532  42.368510  14.351016  Handling material   \n",
       "1            Stone    7.589367  40.396214   8.991514  Handling material   \n",
       "\n",
       "   daystotlus  \n",
       "0  123.896727  \n",
       "1  110.260117  "
      ]
     },
     "execution_count": 43,
     "metadata": {},
     "output_type": "execute_result"
    }
   ],
   "source": [
    "df.groupby('Segment').agg(\n",
    "    {\n",
    "        'Total':'count',\n",
    "        'coalmetl': lambda x: x.value_counts().index[0],\n",
    "        'commod': lambda x: x.value_counts().index[0],\n",
    "        'sex': lambda x: x.value_counts().index[0],\n",
    "        'canvass': lambda x: x.value_counts().index[0],\n",
    "        'exptotalus': 'mean',\n",
    "        'ageus': 'mean',\n",
    "        'ywtotalus': 'mean',\n",
    "        'accinj': lambda x: x.value_counts().index[0],\n",
    "        'daystotlus': 'mean'\n",
    "    }\n",
    ").reset_index()"
   ]
  },
  {
   "cell_type": "markdown",
   "metadata": {},
   "source": []
  },
  {
   "cell_type": "code",
   "execution_count": 34,
   "metadata": {},
   "outputs": [],
   "source": [
    "#sns.swarmplot(x= \"exptotalus\", y= \"daystotl\", hue = \"Segment\", data = df)"
   ]
  },
  {
   "cell_type": "code",
   "execution_count": 35,
   "metadata": {},
   "outputs": [
    {
     "data": {
      "image/png": "[encoded data removed]",
      "text/plain": [
       "<Figure size 432x288 with 1 Axes>"
      ]
     },
     "metadata": {
      "needs_background": "light"
     },
     "output_type": "display_data"
    }
   ],
   "source": [
    "ax = sns.stripplot(x = \"daystotl\", y = \"canvass\", hue = \"Segment\", data = df)\n"
   ]
  },
  {
   "cell_type": "code",
   "execution_count": 36,
   "metadata": {},
   "outputs": [
    {
     "data": {
      "image/png": "[encoded data removed]",
      "text/plain": [
       "<Figure size 432x288 with 1 Axes>"
      ]
     },
     "metadata": {
      "needs_background": "light"
     },
     "output_type": "display_data"
    }
   ],
   "source": [
    "ax = sns.stripplot(x = \"daystotl\", y = \"coalmetl\", hue = \"Segment\", data = df)\n"
   ]
  },
  {
   "cell_type": "code",
   "execution_count": 38,
   "metadata": {},
   "outputs": [
    {
     "data": {
      "image/png": "[encoded data removed]",
      "text/plain": [
       "<Figure size 432x288 with 1 Axes>"
      ]
     },
     "metadata": {
      "needs_background": "light"
     },
     "output_type": "display_data"
    }
   ],
   "source": [
    "ax = sns.stripplot(x = \"daystotl\", y = \"opercont\", hue = \"Segment\", data = df)\n"
   ]
  },
  {
   "cell_type": "code",
   "execution_count": 39,
   "metadata": {},
   "outputs": [
    {
     "data": {
      "image/png": "[encoded data removed]",
      "text/plain": [
       "<Figure size 432x288 with 1 Axes>"
      ]
     },
     "metadata": {
      "needs_background": "light"
     },
     "output_type": "display_data"
    }
   ],
   "source": [
    "ax = sns.stripplot(x = \"daystotl\", y = \"commod\", hue = \"Segment\", data = df)\n"
   ]
  },
  {
   "cell_type": "code",
   "execution_count": 40,
   "metadata": {},
   "outputs": [
    {
     "data": {
      "image/png": "[encoded data removed]",
      "text/plain": [
       "<Figure size 432x288 with 1 Axes>"
      ]
     },
     "metadata": {
      "needs_background": "light"
     },
     "output_type": "display_data"
    }
   ],
   "source": [
    "ax = sns.stripplot(x = \"daystotl\", y = \"sex\", hue = \"Segment\", data = df)\n"
   ]
  },
  {
   "cell_type": "code",
   "execution_count": 41,
   "metadata": {},
   "outputs": [
    {
     "data": {
      "image/png": "[encoded data removed]",
      "text/plain": [
       "<Figure size 432x288 with 1 Axes>"
      ]
     },
     "metadata": {
      "needs_background": "light"
     },
     "output_type": "display_data"
    }
   ],
   "source": [
    "ax = sns.stripplot(x = \"daystotl\", y = \"injtype\", hue = \"Segment\", data = df)\n"
   ]
  },
  {
   "cell_type": "code",
   "execution_count": 42,
   "metadata": {},
   "outputs": [
    {
     "data": {
      "image/png": "[encoded data removed]",
      "text/plain": [
       "<Figure size 432x288 with 1 Axes>"
      ]
     },
     "metadata": {
      "needs_background": "light"
     },
     "output_type": "display_data"
    }
   ],
   "source": [
    "ax = sns.stripplot(x = \"daystotl\", y = \"accinj\", hue = \"Segment\", data = df)\n"
   ]
  },
  {
   "cell_type": "code",
   "execution_count": null,
   "metadata": {},
   "outputs": [],
   "source": []
  }
 ],
 "metadata": {
  "interpreter": {
   "hash": "a9f0e5242b76620d354f2acae913d66ded7e850a66e3cb2e130e3aa882d33a20"
  },
  "kernelspec": {
   "display_name": "Python 3.7.0 32-bit",
   "language": "python",
   "name": "python3"
  },
  "language_info": {
   "codemirror_mode": {
    "name": "ipython",
    "version": 3
   },
   "file_extension": ".py",
   "mimetype": "text/x-python",
   "name": "python",
   "nbconvert_exporter": "python",
   "pygments_lexer": "ipython3",
   "version": "3.7.0"
  },
  "orig_nbformat": 4
 },
 "nbformat": 4,
 "nbformat_minor": 2
}
