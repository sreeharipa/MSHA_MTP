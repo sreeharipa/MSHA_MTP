{
 "cells": [
  {
   "cell_type": "code",
   "execution_count": 1,
   "metadata": {},
   "outputs": [],
   "source": [
    "import pandas as pd\n",
    "import numpy as np\n",
    "import matplotlib.pyplot as plt\n",
    "import warnings\n",
    "warnings.filterwarnings('ignore', category = FutureWarning)\n",
    "import seaborn as sns"
   ]
  },
  {
   "cell_type": "code",
   "execution_count": 2,
   "metadata": {},
   "outputs": [],
   "source": [
    "df = pd.read_csv('csvs/afterone.csv')\n",
    "pd.options.display.max_columns = None"
   ]
  },
  {
   "cell_type": "code",
   "execution_count": 3,
   "metadata": {},
   "outputs": [
    {
     "data": {
      "text/plain": [
       "subunit       9\n",
       "month        12\n",
       "inspoff      81\n",
       "state        50\n",
       "sic          56\n",
       "canvass       6\n",
       "uloc          7\n",
       "umeth         7\n",
       "minemach     57\n",
       "aii          25\n",
       "atype        38\n",
       "sex           2\n",
       "occup       129\n",
       "mwactiv      82\n",
       "sourcinj    107\n",
       "natinj       31\n",
       "partbody     41\n",
       "deginj       10\n",
       "permtort      3\n",
       "narrcm        2\n",
       "timesnce    360\n",
       "expmine     963\n",
       "expjob      872\n",
       "injtype       4\n",
       "coalmetl      2\n",
       "opercont      2\n",
       "district     15\n",
       "commod        7\n",
       "accinj       17\n",
       "dtype: int64"
      ]
     },
     "execution_count": 3,
     "metadata": {},
     "output_type": "execute_result"
    }
   ],
   "source": [
    "df.select_dtypes('object').nunique()"
   ]
  },
  {
   "cell_type": "code",
   "execution_count": null,
   "metadata": {},
   "outputs": [],
   "source": []
  }
 ],
 "metadata": {
  "interpreter": {
   "hash": "a9f0e5242b76620d354f2acae913d66ded7e850a66e3cb2e130e3aa882d33a20"
  },
  "kernelspec": {
   "display_name": "Python 3.7.0 32-bit",
   "language": "python",
   "name": "python3"
  },
  "language_info": {
   "codemirror_mode": {
    "name": "ipython",
    "version": 3
   },
   "file_extension": ".py",
   "mimetype": "text/x-python",
   "name": "python",
   "nbconvert_exporter": "python",
   "pygments_lexer": "ipython3",
   "version": "3.7.0"
  },
  "orig_nbformat": 4
 },
 "nbformat": 4,
 "nbformat_minor": 2
}
